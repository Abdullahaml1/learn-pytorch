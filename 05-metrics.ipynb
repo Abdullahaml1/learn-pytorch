{
 "cells": [
  {
   "cell_type": "markdown",
   "id": "db899271-3a04-42bb-bfbb-97fb94ecac54",
   "metadata": {},
   "source": [
    "# Pytorch Engite Metrics [link](https://pytorch.org/ignite/metrics.html#attach-engine)"
   ]
  },
  {
   "cell_type": "code",
   "execution_count": 14,
   "id": "0b26aa3c-1024-48ea-acb8-e3625ac81ed2",
   "metadata": {
    "tags": []
   },
   "outputs": [],
   "source": [
    "import torch\n",
    "device = 'cuda' if torch.cuda.is_available() else 'cpu'"
   ]
  },
  {
   "cell_type": "code",
   "execution_count": 19,
   "id": "7329d512-4203-4b33-a14c-3b49c56e9ce0",
   "metadata": {
    "tags": []
   },
   "outputs": [
    {
     "data": {
      "text/plain": [
       "tensor([1, 0, 0, 1, 0, 1, 0, 2, 2, 0], device='cuda:0')"
      ]
     },
     "execution_count": 19,
     "metadata": {},
     "output_type": "execute_result"
    }
   ],
   "source": [
    "class Classifier(torch.nn.Module):\n",
    "    def __init__(self, input_dim, num_classes):\n",
    "        super().__init__()\n",
    "        self.linear = torch.nn.Linear(input_dim, num_classes)\n",
    "    def forward(self, x):\n",
    "        return self.linear(x)\n",
    "    \n",
    "input_dim = 5\n",
    "num_classes = 3\n",
    "data_dim = 10\n",
    "data = torch.randn(data_dim, input_dim), torch.randint(0, num_classes, (data_dim,))\n",
    "\n",
    "model = Classifier(input_dim, num_classes)\n",
    "model.to(device)\n",
    "data[0].to(device)\n",
    "data[1].to(device)"
   ]
  },
  {
   "cell_type": "code",
   "execution_count": 29,
   "id": "48958580-32cd-4c7a-9949-a0483be5e321",
   "metadata": {
    "tags": []
   },
   "outputs": [
    {
     "name": "stdout",
     "output_type": "stream",
     "text": [
      "Precision:  tensor([0.0000, 0.6667, 0.2000], device='cuda:0', dtype=torch.float64)\n",
      "Precision:  tensor([0.0000, 0.6667, 0.2000], device='cuda:0', dtype=torch.float64)\n"
     ]
    }
   ],
   "source": [
    "from ignite.metrics import Precision\n",
    "\n",
    "# Define the metric\n",
    "precision = Precision(average=None, device=device)   # <<<<<<<<<<<<<<<<<<<<<<<<<<<<<<<<<<<<<<<<<<\n",
    "\n",
    "# Start accumulation:\n",
    "# for x, y in data:\n",
    "x = data[0].to(device)\n",
    "y = data[1].to(device)\n",
    "y_pred = model(x)\n",
    "precision.update((y_pred, y))  # <<<<<<<<<<<<<<<<<<<<<<<<<<<<<<<<<<<<<<<<<<<<<<<<<<<<<<<<<<<<<<\n",
    "\n",
    "# Compute the result\n",
    "print(\"Precision: \", precision.compute())\n",
    "\n",
    "# Reset metric\n",
    "precision.reset() # <<<<<<<<<<<<<<<<<<<<<<<<<<<<<<<<<<<<<<<<<<<<<<<<<<<<<<\n",
    "\n",
    "# Start new accumulation:\n",
    "# for x, y in data:\n",
    "y_pred = model(x)\n",
    "precision.update((y_pred, y)) \n",
    "\n",
    "# Compute new result\n",
    "print(\"Precision: \", precision.compute())"
   ]
  },
  {
   "cell_type": "code",
   "execution_count": 31,
   "id": "fdee3918-7be0-4150-a76a-74e69ebad537",
   "metadata": {
    "tags": []
   },
   "outputs": [
    {
     "name": "stdout",
     "output_type": "stream",
     "text": [
      "recall:  tensor([0.0000, 0.6667, 0.5000], device='cuda:0', dtype=torch.float64)\n",
      "recall:  tensor([0.0000, 0.6667, 0.5000], device='cuda:0', dtype=torch.float64)\n"
     ]
    }
   ],
   "source": [
    "from ignite.metrics import  Recall\n",
    "\n",
    "# Define the metric\n",
    "recall = Recall(average=None, device = device)\n",
    "\n",
    "# Start accumulation:\n",
    "# for x, y in data:\n",
    "x = data[0].to(device)\n",
    "y = data[1].to(device)\n",
    "y_pred = model(x)\n",
    "recall.update((y_pred, y))\n",
    "\n",
    "# Compute the result\n",
    "print(\"recall: \", recall.compute())\n",
    "\n",
    "# Reset metric\n",
    "recall.reset()\n",
    "\n",
    "# Start new accumulation:\n",
    "# for x, y in data:\n",
    "y_pred = model(x)\n",
    "recall.update((y_pred, y))\n",
    "\n",
    "# Compute new result\n",
    "print(\"recall: \", recall.compute())"
   ]
  },
  {
   "cell_type": "code",
   "execution_count": null,
   "id": "daaff039-17dc-4908-bf3f-4b3e503e6f60",
   "metadata": {},
   "outputs": [],
   "source": []
  }
 ],
 "metadata": {
  "kernelspec": {
   "display_name": "Python 3 (ipykernel)",
   "language": "python",
   "name": "python3"
  },
  "language_info": {
   "codemirror_mode": {
    "name": "ipython",
    "version": 3
   },
   "file_extension": ".py",
   "mimetype": "text/x-python",
   "name": "python",
   "nbconvert_exporter": "python",
   "pygments_lexer": "ipython3",
   "version": "3.10.6"
  }
 },
 "nbformat": 4,
 "nbformat_minor": 5
}

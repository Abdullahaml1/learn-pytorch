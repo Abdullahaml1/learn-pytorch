{
 "cells": [
  {
   "cell_type": "markdown",
   "id": "c2cb0ad1-97d0-4bc4-b12c-f4c907f39659",
   "metadata": {},
   "source": [
    "# Quick start with pytorch [link](https://pytorch.org/tutorials/beginner/basics/quickstart_tutorial.html)"
   ]
  },
  {
   "cell_type": "markdown",
   "id": "936d14aa-5d36-4e9d-bb12-00aac0263b8e",
   "metadata": {},
   "source": [
    "PyTorch has two primitives to work with data: `torch.utils.data.DataLoader` and `torch.utils.data.Dataset`. Dataset stores the samples and their corresponding labels, and DataLoader wraps an iterable around the Dataset."
   ]
  },
  {
   "cell_type": "code",
   "execution_count": 1,
   "id": "ac801422-a68f-446c-a92f-337edbe1502f",
   "metadata": {
    "tags": []
   },
   "outputs": [
    {
     "name": "stderr",
     "output_type": "stream",
     "text": [
      "/home/abdullah/.local/lib/python3.10/site-packages/tqdm/auto.py:21: TqdmWarning: IProgress not found. Please update jupyter and ipywidgets. See https://ipywidgets.readthedocs.io/en/stable/user_install.html\n",
      "  from .autonotebook import tqdm as notebook_tqdm\n"
     ]
    }
   ],
   "source": [
    "import torch\n",
    "from torch import nn\n",
    "from torch.utils.data import DataLoader\n",
    "from torchvision import datasets\n",
    "from torchvision.transforms import ToTensor\n",
    "\n",
    "from tqdm import tqdm"
   ]
  },
  {
   "cell_type": "markdown",
   "id": "9110f14b-ddc2-4458-9a53-6334e7e66367",
   "metadata": {
    "tags": []
   },
   "source": [
    "PyTorch offers domain-specific libraries such as [TorchText](https://pytorch.org/text/stable/index.html),\n",
    "[TorchVision](https://pytorch.org/vision/stable/index.html), and [TorchAudio](https://pytorch.org/audio/stable/index.html),\n",
    "all of which include datasets. For this tutorial, we  will be using a TorchVision dataset.\n",
    "\n",
    "The ``torchvision.datasets`` module contains ``Dataset`` objects for many real-world vision data like\n",
    "CIFAR, COCO ([full list here](https://pytorch.org/vision/stable/datasets.html)). In this tutorial, we\n",
    "use the FashionMNIST dataset. Every TorchVision ``Dataset`` includes two arguments: ``transform`` and\n",
    "``target_transform`` to modify the samples and labels respectively.\n",
    "\n"
   ]
  },
  {
   "cell_type": "code",
   "execution_count": 11,
   "id": "ca288840-0c4f-4b45-bf32-5c5f63b82ce8",
   "metadata": {
    "tags": []
   },
   "outputs": [],
   "source": [
    "# Download training data from open datasets.\n",
    "training_data = datasets.FashionMNIST(\n",
    "    root=\"data\",\n",
    "    train=True,\n",
    "    download=True,\n",
    "    transform=ToTensor(),\n",
    ")\n",
    "\n",
    "# Download test data from open datasets.\n",
    "test_data = datasets.FashionMNIST(\n",
    "    root=\"data\",\n",
    "    train=False,\n",
    "    download=True,\n",
    "    transform=ToTensor(),\n",
    ")"
   ]
  },
  {
   "cell_type": "code",
   "execution_count": 40,
   "id": "c3e976d0-906c-45e3-8dfa-cb12ce4627a6",
   "metadata": {
    "tags": []
   },
   "outputs": [
    {
     "name": "stdout",
     "output_type": "stream",
     "text": [
      "Shape of X [N, C, H, W]: torch.Size([64, 1, 28, 28])\n",
      "Shape of y: torch.Size([64]) torch.int64\n"
     ]
    },
    {
     "data": {
      "text/plain": [
       "tensor(9)"
      ]
     },
     "execution_count": 40,
     "metadata": {},
     "output_type": "execute_result"
    }
   ],
   "source": [
    "# loading the data into the dataloader \n",
    "\n",
    "BATCH_SIZE = 64 \n",
    "\n",
    "train_dataloader = DataLoader(training_data, batch_size = BATCH_SIZE)\n",
    "test_dataloader = DataLoader(test_data, batch_size = BATCH_SIZE)\n",
    "\n",
    "for X, y in test_dataloader:\n",
    "    print(f\"Shape of X [N, C, H, W]: {X.shape}\")\n",
    "    print(f\"Shape of y: {y.shape} {y.dtype}\")\n",
    "    break\n",
    "y[0]"
   ]
  },
  {
   "cell_type": "code",
   "execution_count": 41,
   "id": "220d5a3e-8229-4f84-8a54-7beda71735fe",
   "metadata": {
    "tags": []
   },
   "outputs": [
    {
     "name": "stdout",
     "output_type": "stream",
     "text": [
      "using device: cuda\n"
     ]
    }
   ],
   "source": [
    "device = 'cuda' if torch.cuda.is_available() else 'cpu' \n",
    "print(f'using device: {device}')"
   ]
  },
  {
   "cell_type": "code",
   "execution_count": 50,
   "id": "719a212b-436f-4a06-bcfe-4a40bfdf9e04",
   "metadata": {
    "tags": []
   },
   "outputs": [
    {
     "name": "stdout",
     "output_type": "stream",
     "text": [
      "NeuralNetwork(\n",
      "  (flatten): Flatten(start_dim=1, end_dim=-1)\n",
      "  (linear_relu_stack): Sequential(\n",
      "    (0): Linear(in_features=784, out_features=512, bias=True)\n",
      "    (1): ReLU()\n",
      "    (2): Linear(in_features=512, out_features=512, bias=True)\n",
      "    (3): ReLU()\n",
      "    (4): Linear(in_features=512, out_features=10, bias=True)\n",
      "  )\n",
      ")\n"
     ]
    }
   ],
   "source": [
    "# building the model\n",
    "class NeuralNetwork(nn.Module):\n",
    "    def __init__(self):\n",
    "        super().__init__()\n",
    "        \n",
    "        self.flatten = nn.Flatten()\n",
    "        self.linear_relu_stack = nn.Sequential(\n",
    "            nn.Linear(28*28, 512),\n",
    "            nn.ReLU(),\n",
    "            nn.Linear(512, 512),\n",
    "            nn.ReLU(),\n",
    "            nn.Linear(512, 10)\n",
    "        )\n",
    "        \n",
    "    # forward is part of __init__ not the class itself\n",
    "    def forward(self, x):\n",
    "        x  = self.flatten(x)\n",
    "        logits = self.linear_relu_stack(x)\n",
    "        return logits\n",
    "\n",
    "model = NeuralNetwork().to(device)\n",
    "print(model)\n"
   ]
  },
  {
   "cell_type": "code",
   "execution_count": 51,
   "id": "cd1af613-7873-4349-bb1c-31a6654f0e53",
   "metadata": {
    "tags": []
   },
   "outputs": [],
   "source": [
    "# loss and optimizer\n",
    "\n",
    "loss_fn = nn.CrossEntropyLoss()\n",
    "optimizer = torch.optim.SGD(model.parameters(), lr=1e-3)\n"
   ]
  },
  {
   "cell_type": "code",
   "execution_count": 52,
   "id": "1d6aa591-c230-4249-a81a-ae46d1877cf7",
   "metadata": {
    "tags": []
   },
   "outputs": [],
   "source": [
    "# single epoch loop\n",
    "\n",
    "def train_epoch(dataloader, model, loss_fn, optimizer):\n",
    "    size = len(dataloader.dataset)\n",
    "    \n",
    "    # putting model in training mode\n",
    "    model.train()\n",
    "    \n",
    "    for batch, (x, y) in enumerate(dataloader): # The enumerate() function adds a counter to an iterable also start and stop.\n",
    "        \n",
    "        x = x.to(device)\n",
    "        y = y.to(device)\n",
    "        \n",
    "        # computing the loss\n",
    "        pred = model(x)\n",
    "        loss = loss_fn(pred, y)\n",
    "        \n",
    "        \n",
    "        # computing gradients\n",
    "        optimizer.zero_grad()\n",
    "        loss.backward() # how loss  is back ??? (implicitly by pred and y variables)\n",
    "        optimizer.step()\n",
    "        \n",
    "        # printing every 100 batch\n",
    "        if batch %100==0:\n",
    "            loss = loss.item()\n",
    "            current = (batch+1) * len(x)\n",
    "            print(f\"loss: {loss:>7f}  [{current:>5d}/{size:>5d}]\")"
   ]
  },
  {
   "cell_type": "code",
   "execution_count": 53,
   "id": "0e510e16-4594-49de-82ef-25d53a1df755",
   "metadata": {
    "tags": []
   },
   "outputs": [],
   "source": [
    "# testing function\n",
    "\n",
    "def test(dataloader, model, loss_fn):\n",
    "    \n",
    "    size = len(dataloader.dataset)\n",
    "    num_batches = len(dataloader)\n",
    "    \n",
    "    #puting model in evaluation stage\n",
    "    model.eval()\n",
    "    \n",
    "    test_loss, correct = 0, 0\n",
    "    with torch.no_grad():\n",
    "        for x, y in dataloader:\n",
    "            x = x.to(device)\n",
    "            y = y.to(device)\n",
    "            \n",
    "            pred = model(x)\n",
    "            test_loss += loss_fn(pred, y).item()\n",
    "            \n",
    "            correct += (pred.argmax(1) == y).type(torch.float).sum().item()\n",
    "            \n",
    "    test_loss = test_loss / num_batches\n",
    "    correct /= size\n",
    "    print(f'Test error \\n Accuracy: {correct:>4f}  Avg loss: {test_loss:>8f} \\n')\n",
    "            "
   ]
  },
  {
   "cell_type": "code",
   "execution_count": 54,
   "id": "567ba43d-6ac9-4f2d-94e2-06fd480de5bc",
   "metadata": {
    "tags": []
   },
   "outputs": [
    {
     "name": "stdout",
     "output_type": "stream",
     "text": [
      "Epoch: 1/5 -------------------------------\n",
      "loss: 2.310085  [   64/60000]\n",
      "loss: 2.296363  [ 6464/60000]\n",
      "loss: 2.279557  [12864/60000]\n",
      "loss: 2.278315  [19264/60000]\n",
      "loss: 2.262035  [25664/60000]\n",
      "loss: 2.236336  [32064/60000]\n",
      "loss: 2.242483  [38464/60000]\n",
      "loss: 2.211272  [44864/60000]\n",
      "loss: 2.206981  [51264/60000]\n",
      "loss: 2.182131  [57664/60000]\n",
      "Test error \n",
      " Accuracy: 0.491500  Avg loss: 2.173853 \n",
      "\n",
      "Epoch: 2/5 -------------------------------\n",
      "loss: 2.177288  [   64/60000]\n",
      "loss: 2.168404  [ 6464/60000]\n",
      "loss: 2.112413  [12864/60000]\n",
      "loss: 2.136609  [19264/60000]\n",
      "loss: 2.091968  [25664/60000]\n",
      "loss: 2.035027  [32064/60000]\n",
      "loss: 2.067522  [38464/60000]\n",
      "loss: 1.990804  [44864/60000]\n",
      "loss: 1.990203  [51264/60000]\n",
      "loss: 1.930049  [57664/60000]\n",
      "Test error \n",
      " Accuracy: 0.595100  Avg loss: 1.919119 \n",
      "\n",
      "Epoch: 3/5 -------------------------------\n",
      "loss: 1.942335  [   64/60000]\n",
      "loss: 1.915231  [ 6464/60000]\n",
      "loss: 1.792647  [12864/60000]\n",
      "loss: 1.845326  [19264/60000]\n",
      "loss: 1.747152  [25664/60000]\n",
      "loss: 1.688859  [32064/60000]\n",
      "loss: 1.720853  [38464/60000]\n",
      "loss: 1.611910  [44864/60000]\n",
      "loss: 1.632598  [51264/60000]\n",
      "loss: 1.533370  [57664/60000]\n",
      "Test error \n",
      " Accuracy: 0.622100  Avg loss: 1.542442 \n",
      "\n",
      "Epoch: 4/5 -------------------------------\n",
      "loss: 1.601269  [   64/60000]\n",
      "loss: 1.567610  [ 6464/60000]\n",
      "loss: 1.407851  [12864/60000]\n",
      "loss: 1.492872  [19264/60000]\n",
      "loss: 1.375967  [25664/60000]\n",
      "loss: 1.365775  [32064/60000]\n",
      "loss: 1.388416  [38464/60000]\n",
      "loss: 1.301112  [44864/60000]\n",
      "loss: 1.337283  [51264/60000]\n",
      "loss: 1.237394  [57664/60000]\n",
      "Test error \n",
      " Accuracy: 0.628600  Avg loss: 1.261340 \n",
      "\n",
      "Epoch: 5/5 -------------------------------\n",
      "loss: 1.335837  [   64/60000]\n",
      "loss: 1.319606  [ 6464/60000]\n",
      "loss: 1.145241  [12864/60000]\n",
      "loss: 1.259865  [19264/60000]\n",
      "loss: 1.131257  [25664/60000]\n",
      "loss: 1.160690  [32064/60000]\n",
      "loss: 1.187860  [38464/60000]\n",
      "loss: 1.114630  [44864/60000]\n",
      "loss: 1.154525  [51264/60000]\n",
      "loss: 1.070993  [57664/60000]\n",
      "Test error \n",
      " Accuracy: 0.638100  Avg loss: 1.090577 \n",
      "\n",
      "Done !\n"
     ]
    }
   ],
   "source": [
    "# main training loop\n",
    "EPOCHS = 5\n",
    "\n",
    "for t in range(EPOCHS):\n",
    "    print(f'Epoch: {t+1}/{EPOCHS} -------------------------------')\n",
    "    train_epoch(train_dataloader, model, loss_fn, optimizer)\n",
    "    test(test_dataloader, model, loss_fn)\n",
    "\n",
    "print('Done !')\n",
    "    "
   ]
  },
  {
   "cell_type": "code",
   "execution_count": 57,
   "id": "f31120d9-dc30-491a-85a9-ad71afe34bd8",
   "metadata": {},
   "outputs": [],
   "source": [
    "# saveing the model\n",
    "torch.save(model.state_dict(), 'data/model.pth')"
   ]
  },
  {
   "cell_type": "code",
   "execution_count": 59,
   "id": "3b9ac998-011e-4bf3-820b-1842e8043f30",
   "metadata": {
    "tags": []
   },
   "outputs": [
    {
     "data": {
      "text/plain": [
       "<All keys matched successfully>"
      ]
     },
     "execution_count": 59,
     "metadata": {},
     "output_type": "execute_result"
    }
   ],
   "source": [
    "# loading the saved model\n",
    "saved_model = NeuralNetwork()\n",
    "saved_model.load_state_dict(torch.load('data/model.pth'))"
   ]
  },
  {
   "cell_type": "code",
   "execution_count": 65,
   "id": "3aa294d0-f25c-4dcc-ac6c-5c279da37cf9",
   "metadata": {
    "tags": []
   },
   "outputs": [
    {
     "data": {
      "text/plain": [
       "9"
      ]
     },
     "execution_count": 65,
     "metadata": {},
     "output_type": "execute_result"
    }
   ],
   "source": [
    "x, y = test_data[0]\n",
    "y"
   ]
  },
  {
   "cell_type": "code",
   "execution_count": 68,
   "id": "58cacce1-f9f0-4394-b2ec-8fa6a46ed534",
   "metadata": {
    "tags": []
   },
   "outputs": [
    {
     "name": "stdout",
     "output_type": "stream",
     "text": [
      "torch.Size([1, 10])\n",
      "Predicted: \"Ankle boot\", Actual: \"Ankle boot\"\n"
     ]
    }
   ],
   "source": [
    "# using the saved model\n",
    "\n",
    "classes = [\n",
    "    \"T-shirt/top\",\n",
    "    \"Trouser\",\n",
    "    \"Pullover\",\n",
    "    \"Dress\",\n",
    "    \"Coat\",\n",
    "    \"Sandal\",\n",
    "    \"Shirt\",\n",
    "    \"Sneaker\",\n",
    "    \"Bag\",\n",
    "    \"Ankle boot\",\n",
    "]\n",
    "\n",
    "model.eval()\n",
    "x, y = test_data[0]\n",
    "with torch.no_grad():\n",
    "    pred = saved_model(x)\n",
    "    print(pred.shape)\n",
    "    predicted, actual = classes[pred[0].argmax(0)], classes[y] # across dim 0\n",
    "    print(f'Predicted: \"{predicted}\", Actual: \"{actual}\"')"
   ]
  },
  {
   "cell_type": "code",
   "execution_count": null,
   "id": "fe1a75e4-4ac1-4ce4-80c0-fbc1f4dc3de4",
   "metadata": {},
   "outputs": [],
   "source": []
  }
 ],
 "metadata": {
  "kernelspec": {
   "display_name": "Python 3 (ipykernel)",
   "language": "python",
   "name": "python3"
  },
  "language_info": {
   "codemirror_mode": {
    "name": "ipython",
    "version": 3
   },
   "file_extension": ".py",
   "mimetype": "text/x-python",
   "name": "python",
   "nbconvert_exporter": "python",
   "pygments_lexer": "ipython3",
   "version": "3.10.6"
  }
 },
 "nbformat": 4,
 "nbformat_minor": 5
}

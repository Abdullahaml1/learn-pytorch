{
 "cells": [
  {
   "cell_type": "markdown",
   "id": "96413567-5b17-4692-b5f3-6ae7c475d7b5",
   "metadata": {},
   "source": [
    "# Custom Datasets & Dataloaders [link](https://pytorch.org/tutorials/beginner/basics/data_tutorial.html)\n",
    "using:\n",
    "* `torch.utils.data.Dataset`\n",
    "* `torch.utils.DataLoader`"
   ]
  },
  {
   "cell_type": "markdown",
   "id": "85cdfe88-7c3e-41ae-a68b-aec3582bbde8",
   "metadata": {},
   "source": [
    "## `torch.utils.data.Dataset`"
   ]
  },
  {
   "cell_type": "code",
   "execution_count": 11,
   "id": "921fdebe-306d-4921-86cd-596bb4629b26",
   "metadata": {},
   "outputs": [],
   "source": [
    "import torch\n",
    "import torchvision\n",
    "from torchvision.io import read_image\n",
    "import pandas as pd\n",
    "\n",
    "#trasform: on data\n",
    "#tartge_transform on labels\n",
    "class CustomImageDataset(torch.utils.data.Dataset):\n",
    "    def __init__(self, annotation_file, img_dir, transform=None, target_transform=None):\n",
    "        self.img_labels = pd.read_csv(annotation_file)\n",
    "        self.im_dir = img_dir\n",
    "        self.transform = transform\n",
    "        self.target_transform = target_transform\n",
    "        \n",
    "    def __len__(self):\n",
    "        return len(self.img_labels)\n",
    "    \n",
    "    def __getitem__(self, idx):\n",
    "        img_path = os.path.join(self.img_dir, self.img_labels.iloc[idx, 0])\n",
    "        imgage = read_image(img_path)\n",
    "        label = self.img_labels.ilco[idx, 1]\n",
    "        \n",
    "        if self.transform:\n",
    "            image = self.transform(image)\n",
    "        \n",
    "        if self.target_transform:\n",
    "            label = self.target_transform(label)\n",
    "            \n",
    "        return image, label"
   ]
  },
  {
   "cell_type": "markdown",
   "id": "622fc7d3-db60-4694-9a74-9864ec84ffca",
   "metadata": {},
   "source": [
    "\n",
    "The labels.csv file looks like: ::\n",
    "\n",
    "    tshirt1.jpg, 0\n",
    "    tshirt2.jpg, 0\n",
    "    ......\n",
    "    ankleboot999.jpg, 9\n"
   ]
  },
  {
   "cell_type": "markdown",
   "id": "a77fb6d7-0fff-432c-bd96-c3efe2b7026c",
   "metadata": {},
   "source": [
    "## `torch.utils.data.Dataloader`"
   ]
  },
  {
   "cell_type": "code",
   "execution_count": 15,
   "id": "919ed200-c99a-403d-b2a6-b6a3171fe786",
   "metadata": {
    "tags": []
   },
   "outputs": [],
   "source": [
    "train_data = CustomImageDataset(annotation_file='../learn-pandas/foo.csv',\n",
    "                                img_dir='./',\n",
    "                                transform=torchvision.transforms.ToTensor,\n",
    "                                target_transform=torchvision.transforms.ToTensor,\n",
    "                               )\n",
    "\n",
    "test_data = CustomImageDataset(annotation_file='../learn-pandas/foo.csv',\n",
    "                                img_dir='./',\n",
    "                                transform=torchvision.transforms.ToTensor,\n",
    "                                target_transform=torchvision.transforms.ToTensor,\n",
    "                               )\n",
    "\n",
    "                                \n",
    "train_dataloader = torch.utils.data.DataLoader(train_data, batch_size=64, shuffle=True) \n",
    "test_dataloader = torch.utils.data.DataLoader(test_data, batch_size=64, shuffle=True) "
   ]
  },
  {
   "cell_type": "code",
   "execution_count": null,
   "id": "35ce7ea2-efd5-4519-a6c5-ad5cc58ea34a",
   "metadata": {},
   "outputs": [],
   "source": []
  }
 ],
 "metadata": {
  "kernelspec": {
   "display_name": "Python 3 (ipykernel)",
   "language": "python",
   "name": "python3"
  },
  "language_info": {
   "codemirror_mode": {
    "name": "ipython",
    "version": 3
   },
   "file_extension": ".py",
   "mimetype": "text/x-python",
   "name": "python",
   "nbconvert_exporter": "python",
   "pygments_lexer": "ipython3",
   "version": "3.10.6"
  }
 },
 "nbformat": 4,
 "nbformat_minor": 5
}
